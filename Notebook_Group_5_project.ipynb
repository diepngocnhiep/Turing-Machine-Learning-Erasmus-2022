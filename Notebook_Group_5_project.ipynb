{
  "nbformat": 4,
  "nbformat_minor": 0,
  "metadata": {
    "colab": {
      "name": "Notebook Group 5 project.ipynb",
      "provenance": [],
      "collapsed_sections": [],
      "include_colab_link": true
    },
    "kernelspec": {
      "name": "python3",
      "display_name": "Python 3"
    },
    "language_info": {
      "name": "python"
    }
  },
  "cells": [
    {
      "cell_type": "markdown",
      "metadata": {
        "id": "view-in-github",
        "colab_type": "text"
      },
      "source": [
        "<a href=\"https://colab.research.google.com/github/diepngocnhiep/Turing-Machine-Learning-Erasmus-2022/blob/main/Notebook_Group_5_project.ipynb\" target=\"_parent\"><img src=\"https://colab.research.google.com/assets/colab-badge.svg\" alt=\"Open In Colab\"/></a>"
      ]
    },
    {
      "cell_type": "markdown",
      "source": [
        "**GROUP 5 TURING MACHINE LEARNING FINAL PROJECT:**\n",
        "\n",
        "# **APPROACHES TO PERFORM DUI PREDICTION BASED ON PERSONAL DATA**\n",
        "\n",
        "\n",
        "\n",
        "Diep Nhiep, Philip Palim, Arnau Domenech"
      ],
      "metadata": {
        "id": "3IgWwaoutB_e"
      }
    },
    {
      "cell_type": "markdown",
      "source": [
        ""
      ],
      "metadata": {
        "id": "PsOtjngKxEWG"
      }
    },
    {
      "cell_type": "markdown",
      "source": [
        "Below is the complete code with explanation for the project. First of all, we installed the packages that we needed:"
      ],
      "metadata": {
        "id": "hkzrqAoVxH7B"
      }
    },
    {
      "cell_type": "code",
      "execution_count": null,
      "metadata": {
        "id": "2yXvLm_kaNNF"
      },
      "outputs": [],
      "source": [
        "#Import all the stuff\n",
        "import pandas as pd\n",
        "import numpy as np\n",
        "import re\n",
        "from sklearn.linear_model import RidgeCV\n",
        "from sklearn.linear_model import LassoCV\n",
        "from sklearn.linear_model import ElasticNet\n",
        "from sklearn.linear_model import ElasticNetCV\n",
        "import matplotlib.pyplot as plt\n",
        "from sklearn import tree\n",
        "from sklearn.metrics import accuracy_score\n",
        "from google.colab import files\n",
        "import io\n",
        "import matplotlib.pyplot as plt"
      ]
    },
    {
      "cell_type": "markdown",
      "source": [
        "Following is the section for uploading the file, in this case we make use of xlsx file, however, it could work properly with .csv file as well."
      ],
      "metadata": {
        "id": "xdmtvXTyxWBK"
      }
    },
    {
      "cell_type": "code",
      "source": [
        "uploaded = files.upload()"
      ],
      "metadata": {
        "colab": {
          "resources": {
            "http://localhost:8080/nbextensions/google.colab/files.js": {
              "data": "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",
              "ok": true,
              "headers": [
                [
                  "content-type",
                  "application/javascript"
                ]
              ],
              "status": 200,
              "status_text": ""
            }
          },
          "base_uri": "https://localhost:8080/",
          "height": 73
        },
        "id": "OgDvsEpIS_nQ",
        "outputId": "3f010692-d81d-41e3-a969-5623115c27ee"
      },
      "execution_count": null,
      "outputs": [
        {
          "output_type": "display_data",
          "data": {
            "text/plain": [
              "<IPython.core.display.HTML object>"
            ],
            "text/html": [
              "\n",
              "     <input type=\"file\" id=\"files-de7be1b2-4a39-4679-9965-6e71a4682b5b\" name=\"files[]\" multiple disabled\n",
              "        style=\"border:none\" />\n",
              "     <output id=\"result-de7be1b2-4a39-4679-9965-6e71a4682b5b\">\n",
              "      Upload widget is only available when the cell has been executed in the\n",
              "      current browser session. Please rerun this cell to enable.\n",
              "      </output>\n",
              "      <script src=\"/nbextensions/google.colab/files.js\"></script> "
            ]
          },
          "metadata": {}
        },
        {
          "output_type": "stream",
          "name": "stdout",
          "text": [
            "Saving Car_Insurance_Claim.csv to Car_Insurance_Claim (3).csv\n"
          ]
        }
      ]
    },
    {
      "cell_type": "code",
      "source": [
        "A = pd.read_csv(io.BytesIO(uploaded['Car_Insurance_Claim.csv']))\n",
        "A\n"
      ],
      "metadata": {
        "colab": {
          "base_uri": "https://localhost:8080/",
          "height": 468
        },
        "id": "mjVX_LgeTS8R",
        "outputId": "647315a7-5e85-49ce-e5da-a5a3c191a937"
      },
      "execution_count": null,
      "outputs": [
        {
          "output_type": "execute_result",
          "data": {
            "text/plain": [
              "        AGE  GENDER      RACE DRIVING_EXPERIENCE    EDUCATION         INCOME  \\\n",
              "0       65+  female  majority               0-9y  high school    upper class   \n",
              "1     16-25    male  majority               0-9y         none        poverty   \n",
              "2     16-25  female  majority               0-9y  high school  working class   \n",
              "3     16-25    male  majority               0-9y   university  working class   \n",
              "4     26-39    male  majority             10-19y         none  working class   \n",
              "...     ...     ...       ...                ...          ...            ...   \n",
              "9995  26-39  female  majority             10-19y   university    upper class   \n",
              "9996  26-39  female  majority             10-19y         none   middle class   \n",
              "9997  26-39    male  majority               0-9y  high school   middle class   \n",
              "9998  26-39  female  majority             10-19y  high school        poverty   \n",
              "9999  26-39  female  majority               0-9y         none  working class   \n",
              "\n",
              "      CREDIT_SCORE  VEHICLE_OWNERSHIP VEHICLE_YEAR  MARRIED  CHILDREN  \\\n",
              "0         0.629027                  1   after 2015        0         1   \n",
              "1         0.357757                  0  before 2015        0         0   \n",
              "2         0.493146                  1  before 2015        0         0   \n",
              "3         0.206013                  1  before 2015        0         1   \n",
              "4         0.388366                  1  before 2015        0         0   \n",
              "...            ...                ...          ...      ...       ...   \n",
              "9995      0.582787                  1  before 2015        0         0   \n",
              "9996      0.522231                  1   after 2015        0         1   \n",
              "9997      0.470940                  1  before 2015        0         1   \n",
              "9998      0.364185                  0  before 2015        0         1   \n",
              "9999      0.435225                  1  before 2015        1         1   \n",
              "\n",
              "      POSTAL_CODE  ANNUAL_MILEAGE VEHICLE_TYPE  SPEEDING_VIOLATIONS  DUIS  \\\n",
              "0           10238         12000.0        sedan                    0     0   \n",
              "1           10238         16000.0        sedan                    0     0   \n",
              "2           10238         11000.0        sedan                    0     0   \n",
              "3           32765         11000.0        sedan                    0     0   \n",
              "4           32765         12000.0        sedan                    2     0   \n",
              "...           ...             ...          ...                  ...   ...   \n",
              "9995        10238         16000.0        sedan                    0     0   \n",
              "9996        32765             NaN        sedan                    1     0   \n",
              "9997        10238         14000.0        sedan                    0     0   \n",
              "9998        10238         13000.0        sedan                    2     0   \n",
              "9999        10238         13000.0        sedan                    0     0   \n",
              "\n",
              "      PAST_ACCIDENTS  OUTCOME  \n",
              "0                  0        0  \n",
              "1                  0        1  \n",
              "2                  0        0  \n",
              "3                  0        0  \n",
              "4                  1        1  \n",
              "...              ...      ...  \n",
              "9995               1        0  \n",
              "9996               0        0  \n",
              "9997               0        0  \n",
              "9998               1        1  \n",
              "9999               0        0  \n",
              "\n",
              "[10000 rows x 18 columns]"
            ],
            "text/html": [
              "\n",
              "  <div id=\"df-039e1c3e-68a6-443a-a362-4b10e6fe119a\">\n",
              "    <div class=\"colab-df-container\">\n",
              "      <div>\n",
              "<style scoped>\n",
              "    .dataframe tbody tr th:only-of-type {\n",
              "        vertical-align: middle;\n",
              "    }\n",
              "\n",
              "    .dataframe tbody tr th {\n",
              "        vertical-align: top;\n",
              "    }\n",
              "\n",
              "    .dataframe thead th {\n",
              "        text-align: right;\n",
              "    }\n",
              "</style>\n",
              "<table border=\"1\" class=\"dataframe\">\n",
              "  <thead>\n",
              "    <tr style=\"text-align: right;\">\n",
              "      <th></th>\n",
              "      <th>AGE</th>\n",
              "      <th>GENDER</th>\n",
              "      <th>RACE</th>\n",
              "      <th>DRIVING_EXPERIENCE</th>\n",
              "      <th>EDUCATION</th>\n",
              "      <th>INCOME</th>\n",
              "      <th>CREDIT_SCORE</th>\n",
              "      <th>VEHICLE_OWNERSHIP</th>\n",
              "      <th>VEHICLE_YEAR</th>\n",
              "      <th>MARRIED</th>\n",
              "      <th>CHILDREN</th>\n",
              "      <th>POSTAL_CODE</th>\n",
              "      <th>ANNUAL_MILEAGE</th>\n",
              "      <th>VEHICLE_TYPE</th>\n",
              "      <th>SPEEDING_VIOLATIONS</th>\n",
              "      <th>DUIS</th>\n",
              "      <th>PAST_ACCIDENTS</th>\n",
              "      <th>OUTCOME</th>\n",
              "    </tr>\n",
              "  </thead>\n",
              "  <tbody>\n",
              "    <tr>\n",
              "      <th>0</th>\n",
              "      <td>65+</td>\n",
              "      <td>female</td>\n",
              "      <td>majority</td>\n",
              "      <td>0-9y</td>\n",
              "      <td>high school</td>\n",
              "      <td>upper class</td>\n",
              "      <td>0.629027</td>\n",
              "      <td>1</td>\n",
              "      <td>after 2015</td>\n",
              "      <td>0</td>\n",
              "      <td>1</td>\n",
              "      <td>10238</td>\n",
              "      <td>12000.0</td>\n",
              "      <td>sedan</td>\n",
              "      <td>0</td>\n",
              "      <td>0</td>\n",
              "      <td>0</td>\n",
              "      <td>0</td>\n",
              "    </tr>\n",
              "    <tr>\n",
              "      <th>1</th>\n",
              "      <td>16-25</td>\n",
              "      <td>male</td>\n",
              "      <td>majority</td>\n",
              "      <td>0-9y</td>\n",
              "      <td>none</td>\n",
              "      <td>poverty</td>\n",
              "      <td>0.357757</td>\n",
              "      <td>0</td>\n",
              "      <td>before 2015</td>\n",
              "      <td>0</td>\n",
              "      <td>0</td>\n",
              "      <td>10238</td>\n",
              "      <td>16000.0</td>\n",
              "      <td>sedan</td>\n",
              "      <td>0</td>\n",
              "      <td>0</td>\n",
              "      <td>0</td>\n",
              "      <td>1</td>\n",
              "    </tr>\n",
              "    <tr>\n",
              "      <th>2</th>\n",
              "      <td>16-25</td>\n",
              "      <td>female</td>\n",
              "      <td>majority</td>\n",
              "      <td>0-9y</td>\n",
              "      <td>high school</td>\n",
              "      <td>working class</td>\n",
              "      <td>0.493146</td>\n",
              "      <td>1</td>\n",
              "      <td>before 2015</td>\n",
              "      <td>0</td>\n",
              "      <td>0</td>\n",
              "      <td>10238</td>\n",
              "      <td>11000.0</td>\n",
              "      <td>sedan</td>\n",
              "      <td>0</td>\n",
              "      <td>0</td>\n",
              "      <td>0</td>\n",
              "      <td>0</td>\n",
              "    </tr>\n",
              "    <tr>\n",
              "      <th>3</th>\n",
              "      <td>16-25</td>\n",
              "      <td>male</td>\n",
              "      <td>majority</td>\n",
              "      <td>0-9y</td>\n",
              "      <td>university</td>\n",
              "      <td>working class</td>\n",
              "      <td>0.206013</td>\n",
              "      <td>1</td>\n",
              "      <td>before 2015</td>\n",
              "      <td>0</td>\n",
              "      <td>1</td>\n",
              "      <td>32765</td>\n",
              "      <td>11000.0</td>\n",
              "      <td>sedan</td>\n",
              "      <td>0</td>\n",
              "      <td>0</td>\n",
              "      <td>0</td>\n",
              "      <td>0</td>\n",
              "    </tr>\n",
              "    <tr>\n",
              "      <th>4</th>\n",
              "      <td>26-39</td>\n",
              "      <td>male</td>\n",
              "      <td>majority</td>\n",
              "      <td>10-19y</td>\n",
              "      <td>none</td>\n",
              "      <td>working class</td>\n",
              "      <td>0.388366</td>\n",
              "      <td>1</td>\n",
              "      <td>before 2015</td>\n",
              "      <td>0</td>\n",
              "      <td>0</td>\n",
              "      <td>32765</td>\n",
              "      <td>12000.0</td>\n",
              "      <td>sedan</td>\n",
              "      <td>2</td>\n",
              "      <td>0</td>\n",
              "      <td>1</td>\n",
              "      <td>1</td>\n",
              "    </tr>\n",
              "    <tr>\n",
              "      <th>...</th>\n",
              "      <td>...</td>\n",
              "      <td>...</td>\n",
              "      <td>...</td>\n",
              "      <td>...</td>\n",
              "      <td>...</td>\n",
              "      <td>...</td>\n",
              "      <td>...</td>\n",
              "      <td>...</td>\n",
              "      <td>...</td>\n",
              "      <td>...</td>\n",
              "      <td>...</td>\n",
              "      <td>...</td>\n",
              "      <td>...</td>\n",
              "      <td>...</td>\n",
              "      <td>...</td>\n",
              "      <td>...</td>\n",
              "      <td>...</td>\n",
              "      <td>...</td>\n",
              "    </tr>\n",
              "    <tr>\n",
              "      <th>9995</th>\n",
              "      <td>26-39</td>\n",
              "      <td>female</td>\n",
              "      <td>majority</td>\n",
              "      <td>10-19y</td>\n",
              "      <td>university</td>\n",
              "      <td>upper class</td>\n",
              "      <td>0.582787</td>\n",
              "      <td>1</td>\n",
              "      <td>before 2015</td>\n",
              "      <td>0</td>\n",
              "      <td>0</td>\n",
              "      <td>10238</td>\n",
              "      <td>16000.0</td>\n",
              "      <td>sedan</td>\n",
              "      <td>0</td>\n",
              "      <td>0</td>\n",
              "      <td>1</td>\n",
              "      <td>0</td>\n",
              "    </tr>\n",
              "    <tr>\n",
              "      <th>9996</th>\n",
              "      <td>26-39</td>\n",
              "      <td>female</td>\n",
              "      <td>majority</td>\n",
              "      <td>10-19y</td>\n",
              "      <td>none</td>\n",
              "      <td>middle class</td>\n",
              "      <td>0.522231</td>\n",
              "      <td>1</td>\n",
              "      <td>after 2015</td>\n",
              "      <td>0</td>\n",
              "      <td>1</td>\n",
              "      <td>32765</td>\n",
              "      <td>NaN</td>\n",
              "      <td>sedan</td>\n",
              "      <td>1</td>\n",
              "      <td>0</td>\n",
              "      <td>0</td>\n",
              "      <td>0</td>\n",
              "    </tr>\n",
              "    <tr>\n",
              "      <th>9997</th>\n",
              "      <td>26-39</td>\n",
              "      <td>male</td>\n",
              "      <td>majority</td>\n",
              "      <td>0-9y</td>\n",
              "      <td>high school</td>\n",
              "      <td>middle class</td>\n",
              "      <td>0.470940</td>\n",
              "      <td>1</td>\n",
              "      <td>before 2015</td>\n",
              "      <td>0</td>\n",
              "      <td>1</td>\n",
              "      <td>10238</td>\n",
              "      <td>14000.0</td>\n",
              "      <td>sedan</td>\n",
              "      <td>0</td>\n",
              "      <td>0</td>\n",
              "      <td>0</td>\n",
              "      <td>0</td>\n",
              "    </tr>\n",
              "    <tr>\n",
              "      <th>9998</th>\n",
              "      <td>26-39</td>\n",
              "      <td>female</td>\n",
              "      <td>majority</td>\n",
              "      <td>10-19y</td>\n",
              "      <td>high school</td>\n",
              "      <td>poverty</td>\n",
              "      <td>0.364185</td>\n",
              "      <td>0</td>\n",
              "      <td>before 2015</td>\n",
              "      <td>0</td>\n",
              "      <td>1</td>\n",
              "      <td>10238</td>\n",
              "      <td>13000.0</td>\n",
              "      <td>sedan</td>\n",
              "      <td>2</td>\n",
              "      <td>0</td>\n",
              "      <td>1</td>\n",
              "      <td>1</td>\n",
              "    </tr>\n",
              "    <tr>\n",
              "      <th>9999</th>\n",
              "      <td>26-39</td>\n",
              "      <td>female</td>\n",
              "      <td>majority</td>\n",
              "      <td>0-9y</td>\n",
              "      <td>none</td>\n",
              "      <td>working class</td>\n",
              "      <td>0.435225</td>\n",
              "      <td>1</td>\n",
              "      <td>before 2015</td>\n",
              "      <td>1</td>\n",
              "      <td>1</td>\n",
              "      <td>10238</td>\n",
              "      <td>13000.0</td>\n",
              "      <td>sedan</td>\n",
              "      <td>0</td>\n",
              "      <td>0</td>\n",
              "      <td>0</td>\n",
              "      <td>0</td>\n",
              "    </tr>\n",
              "  </tbody>\n",
              "</table>\n",
              "<p>10000 rows × 18 columns</p>\n",
              "</div>\n",
              "      <button class=\"colab-df-convert\" onclick=\"convertToInteractive('df-039e1c3e-68a6-443a-a362-4b10e6fe119a')\"\n",
              "              title=\"Convert this dataframe to an interactive table.\"\n",
              "              style=\"display:none;\">\n",
              "        \n",
              "  <svg xmlns=\"http://www.w3.org/2000/svg\" height=\"24px\"viewBox=\"0 0 24 24\"\n",
              "       width=\"24px\">\n",
              "    <path d=\"M0 0h24v24H0V0z\" fill=\"none\"/>\n",
              "    <path d=\"M18.56 5.44l.94 2.06.94-2.06 2.06-.94-2.06-.94-.94-2.06-.94 2.06-2.06.94zm-11 1L8.5 8.5l.94-2.06 2.06-.94-2.06-.94L8.5 2.5l-.94 2.06-2.06.94zm10 10l.94 2.06.94-2.06 2.06-.94-2.06-.94-.94-2.06-.94 2.06-2.06.94z\"/><path d=\"M17.41 7.96l-1.37-1.37c-.4-.4-.92-.59-1.43-.59-.52 0-1.04.2-1.43.59L10.3 9.45l-7.72 7.72c-.78.78-.78 2.05 0 2.83L4 21.41c.39.39.9.59 1.41.59.51 0 1.02-.2 1.41-.59l7.78-7.78 2.81-2.81c.8-.78.8-2.07 0-2.86zM5.41 20L4 18.59l7.72-7.72 1.47 1.35L5.41 20z\"/>\n",
              "  </svg>\n",
              "      </button>\n",
              "      \n",
              "  <style>\n",
              "    .colab-df-container {\n",
              "      display:flex;\n",
              "      flex-wrap:wrap;\n",
              "      gap: 12px;\n",
              "    }\n",
              "\n",
              "    .colab-df-convert {\n",
              "      background-color: #E8F0FE;\n",
              "      border: none;\n",
              "      border-radius: 50%;\n",
              "      cursor: pointer;\n",
              "      display: none;\n",
              "      fill: #1967D2;\n",
              "      height: 32px;\n",
              "      padding: 0 0 0 0;\n",
              "      width: 32px;\n",
              "    }\n",
              "\n",
              "    .colab-df-convert:hover {\n",
              "      background-color: #E2EBFA;\n",
              "      box-shadow: 0px 1px 2px rgba(60, 64, 67, 0.3), 0px 1px 3px 1px rgba(60, 64, 67, 0.15);\n",
              "      fill: #174EA6;\n",
              "    }\n",
              "\n",
              "    [theme=dark] .colab-df-convert {\n",
              "      background-color: #3B4455;\n",
              "      fill: #D2E3FC;\n",
              "    }\n",
              "\n",
              "    [theme=dark] .colab-df-convert:hover {\n",
              "      background-color: #434B5C;\n",
              "      box-shadow: 0px 1px 3px 1px rgba(0, 0, 0, 0.15);\n",
              "      filter: drop-shadow(0px 1px 2px rgba(0, 0, 0, 0.3));\n",
              "      fill: #FFFFFF;\n",
              "    }\n",
              "  </style>\n",
              "\n",
              "      <script>\n",
              "        const buttonEl =\n",
              "          document.querySelector('#df-039e1c3e-68a6-443a-a362-4b10e6fe119a button.colab-df-convert');\n",
              "        buttonEl.style.display =\n",
              "          google.colab.kernel.accessAllowed ? 'block' : 'none';\n",
              "\n",
              "        async function convertToInteractive(key) {\n",
              "          const element = document.querySelector('#df-039e1c3e-68a6-443a-a362-4b10e6fe119a');\n",
              "          const dataTable =\n",
              "            await google.colab.kernel.invokeFunction('convertToInteractive',\n",
              "                                                     [key], {});\n",
              "          if (!dataTable) return;\n",
              "\n",
              "          const docLinkHtml = 'Like what you see? Visit the ' +\n",
              "            '<a target=\"_blank\" href=https://colab.research.google.com/notebooks/data_table.ipynb>data table notebook</a>'\n",
              "            + ' to learn more about interactive tables.';\n",
              "          element.innerHTML = '';\n",
              "          dataTable['output_type'] = 'display_data';\n",
              "          await google.colab.output.renderOutput(dataTable, element);\n",
              "          const docLink = document.createElement('div');\n",
              "          docLink.innerHTML = docLinkHtml;\n",
              "          element.appendChild(docLink);\n",
              "        }\n",
              "      </script>\n",
              "    </div>\n",
              "  </div>\n",
              "  "
            ]
          },
          "metadata": {},
          "execution_count": 67
        }
      ]
    },
    {
      "cell_type": "markdown",
      "source": [
        "#DATA CLEANING\n",
        "\n",
        "Changing format and dropping unnecessary or unhelpful variables"
      ],
      "metadata": {
        "id": "OzPBniGhtOcC"
      }
    },
    {
      "cell_type": "code",
      "source": [
        "\n",
        "x=0\n",
        "source = A.dropna(axis = 0, how ='any')\n",
        "source=source.reset_index(drop = True)\n",
        "source['DUIB']=0\n",
        "#print(source)\n",
        "for idx, row in source.iterrows():\n",
        "    if row['DUIS']==0:\n",
        "        source.at[idx,'DUIB']=0\n",
        "    else:\n",
        "        x=x+1\n",
        "        source.at[idx,'DUIB']=1\n",
        "    \n",
        "    if row['AGE']==\"16-25\":\n",
        "        source.at[idx,'AGE']=0\n",
        "    elif row['AGE']=='26-39':\n",
        "        source.at[idx,'AGE']=1\n",
        "    elif row['AGE']=='40-64':\n",
        "        source.at[idx,'AGE']=2\n",
        "    elif row['AGE']=='65+':\n",
        "        source.at[idx,'AGE']=3\n",
        "    \n",
        "    if row['DRIVING_EXPERIENCE']==\"0-9y\":\n",
        "        source.at[idx,'DRIVING_EXPERIENCE']=0\n",
        "    elif row['DRIVING_EXPERIENCE']=='10-19y':\n",
        "        source.at[idx,'DRIVING_EXPERIENCE']=1\n",
        "    elif row['DRIVING_EXPERIENCE']=='20-29y':\n",
        "        source.at[idx,'DRIVING_EXPERIENCE']=2\n",
        "    elif row['DRIVING_EXPERIENCE']=='30y+':\n",
        "        source.at[idx,'DRIVING_EXPERIENCE']=3    \n",
        "        \n",
        "    if row['EDUCATION']==\"none\":\n",
        "        source.at[idx,'EDUCATION']=0\n",
        "    elif row['EDUCATION']=='high school':\n",
        "        source.at[idx,'EDUCATION']=1\n",
        "    elif row['EDUCATION']=='university':\n",
        "        source.at[idx,'EDUCATION']=2   \n",
        "        \n",
        "    if row['INCOME']==\"poverty\":\n",
        "     source.at[idx,'INCOME']=0\n",
        "    elif row['INCOME']=='working class':\n",
        "     source.at[idx,'INCOME']=1\n",
        "    elif row['INCOME']=='middle class':\n",
        "     source.at[idx,'INCOME']=2\n",
        "    elif row['INCOME']=='upper class':\n",
        "     source.at[idx,'INCOME']=3    \n",
        "     \n",
        "     \n",
        "    if row['VEHICLE_YEAR']==\"before 2015\":\n",
        "      source.at[idx,'VEHICLE_YEAR']=0\n",
        "    elif row['VEHICLE_YEAR']=='after 2015':\n",
        "      source.at[idx,'VEHICLE_YEAR']=1\n",
        "     \n",
        "    if row['VEHICLE_TYPE']==\"sedan\":\n",
        "      source.at[idx,'VEHICLE_TYPE']=0\n",
        "    elif row['VEHICLE_TYPE']=='sports car':\n",
        "      source.at[idx,'VEHICLE_TYPE']=1\n",
        "      \n",
        "      \n",
        "    if row['GENDER']==\"female\":\n",
        "       source.at[idx,'GENDER']=0\n",
        "    elif row['GENDER']=='male':\n",
        "       source.at[idx,'GENDER']=1\n",
        "       \n",
        "       \n",
        "       \n",
        "    if row['RACE']==\"majority\":\n",
        "        source.at[idx,'RACE']=0\n",
        "    elif row['RACE']=='minority':\n",
        "        source.at[idx,'RACE']=1\n",
        "totalY=source['DUIB']\n",
        "totalX=source.drop(['DUIB', 'DUIS', 'OUTCOME', 'POSTAL_CODE'], axis=1)\n",
        "totalY.describe()\n",
        "totalX.describe()\n"
      ],
      "metadata": {
        "id": "8DDTx11gS55l",
        "colab": {
          "base_uri": "https://localhost:8080/",
          "height": 300
        },
        "outputId": "aa6117e0-0b67-4dec-ed43-99da706d295d"
      },
      "execution_count": null,
      "outputs": [
        {
          "output_type": "execute_result",
          "data": {
            "text/plain": [
              "       CREDIT_SCORE  VEHICLE_OWNERSHIP      MARRIED     CHILDREN  \\\n",
              "count   8149.000000        8149.000000  8149.000000  8149.000000   \n",
              "mean       0.516368           0.699227     0.501043     0.689287   \n",
              "std        0.137684           0.458622     0.500030     0.462814   \n",
              "min        0.053358           0.000000     0.000000     0.000000   \n",
              "25%        0.417891           0.000000     0.000000     0.000000   \n",
              "50%        0.526759           1.000000     1.000000     1.000000   \n",
              "75%        0.620074           1.000000     1.000000     1.000000   \n",
              "max        0.960819           1.000000     1.000000     1.000000   \n",
              "\n",
              "       ANNUAL_MILEAGE  SPEEDING_VIOLATIONS  PAST_ACCIDENTS  \n",
              "count      8149.00000          8149.000000     8149.000000  \n",
              "mean      11693.45932             1.485581        1.065530  \n",
              "std        2822.35147             2.244711        1.665623  \n",
              "min        2000.00000             0.000000        0.000000  \n",
              "25%       10000.00000             0.000000        0.000000  \n",
              "50%       12000.00000             0.000000        0.000000  \n",
              "75%       14000.00000             2.000000        2.000000  \n",
              "max       22000.00000            22.000000       15.000000  "
            ],
            "text/html": [
              "\n",
              "  <div id=\"df-9d4a2f29-46dc-4cb3-b4f2-ffdffae66740\">\n",
              "    <div class=\"colab-df-container\">\n",
              "      <div>\n",
              "<style scoped>\n",
              "    .dataframe tbody tr th:only-of-type {\n",
              "        vertical-align: middle;\n",
              "    }\n",
              "\n",
              "    .dataframe tbody tr th {\n",
              "        vertical-align: top;\n",
              "    }\n",
              "\n",
              "    .dataframe thead th {\n",
              "        text-align: right;\n",
              "    }\n",
              "</style>\n",
              "<table border=\"1\" class=\"dataframe\">\n",
              "  <thead>\n",
              "    <tr style=\"text-align: right;\">\n",
              "      <th></th>\n",
              "      <th>CREDIT_SCORE</th>\n",
              "      <th>VEHICLE_OWNERSHIP</th>\n",
              "      <th>MARRIED</th>\n",
              "      <th>CHILDREN</th>\n",
              "      <th>ANNUAL_MILEAGE</th>\n",
              "      <th>SPEEDING_VIOLATIONS</th>\n",
              "      <th>PAST_ACCIDENTS</th>\n",
              "    </tr>\n",
              "  </thead>\n",
              "  <tbody>\n",
              "    <tr>\n",
              "      <th>count</th>\n",
              "      <td>8149.000000</td>\n",
              "      <td>8149.000000</td>\n",
              "      <td>8149.000000</td>\n",
              "      <td>8149.000000</td>\n",
              "      <td>8149.00000</td>\n",
              "      <td>8149.000000</td>\n",
              "      <td>8149.000000</td>\n",
              "    </tr>\n",
              "    <tr>\n",
              "      <th>mean</th>\n",
              "      <td>0.516368</td>\n",
              "      <td>0.699227</td>\n",
              "      <td>0.501043</td>\n",
              "      <td>0.689287</td>\n",
              "      <td>11693.45932</td>\n",
              "      <td>1.485581</td>\n",
              "      <td>1.065530</td>\n",
              "    </tr>\n",
              "    <tr>\n",
              "      <th>std</th>\n",
              "      <td>0.137684</td>\n",
              "      <td>0.458622</td>\n",
              "      <td>0.500030</td>\n",
              "      <td>0.462814</td>\n",
              "      <td>2822.35147</td>\n",
              "      <td>2.244711</td>\n",
              "      <td>1.665623</td>\n",
              "    </tr>\n",
              "    <tr>\n",
              "      <th>min</th>\n",
              "      <td>0.053358</td>\n",
              "      <td>0.000000</td>\n",
              "      <td>0.000000</td>\n",
              "      <td>0.000000</td>\n",
              "      <td>2000.00000</td>\n",
              "      <td>0.000000</td>\n",
              "      <td>0.000000</td>\n",
              "    </tr>\n",
              "    <tr>\n",
              "      <th>25%</th>\n",
              "      <td>0.417891</td>\n",
              "      <td>0.000000</td>\n",
              "      <td>0.000000</td>\n",
              "      <td>0.000000</td>\n",
              "      <td>10000.00000</td>\n",
              "      <td>0.000000</td>\n",
              "      <td>0.000000</td>\n",
              "    </tr>\n",
              "    <tr>\n",
              "      <th>50%</th>\n",
              "      <td>0.526759</td>\n",
              "      <td>1.000000</td>\n",
              "      <td>1.000000</td>\n",
              "      <td>1.000000</td>\n",
              "      <td>12000.00000</td>\n",
              "      <td>0.000000</td>\n",
              "      <td>0.000000</td>\n",
              "    </tr>\n",
              "    <tr>\n",
              "      <th>75%</th>\n",
              "      <td>0.620074</td>\n",
              "      <td>1.000000</td>\n",
              "      <td>1.000000</td>\n",
              "      <td>1.000000</td>\n",
              "      <td>14000.00000</td>\n",
              "      <td>2.000000</td>\n",
              "      <td>2.000000</td>\n",
              "    </tr>\n",
              "    <tr>\n",
              "      <th>max</th>\n",
              "      <td>0.960819</td>\n",
              "      <td>1.000000</td>\n",
              "      <td>1.000000</td>\n",
              "      <td>1.000000</td>\n",
              "      <td>22000.00000</td>\n",
              "      <td>22.000000</td>\n",
              "      <td>15.000000</td>\n",
              "    </tr>\n",
              "  </tbody>\n",
              "</table>\n",
              "</div>\n",
              "      <button class=\"colab-df-convert\" onclick=\"convertToInteractive('df-9d4a2f29-46dc-4cb3-b4f2-ffdffae66740')\"\n",
              "              title=\"Convert this dataframe to an interactive table.\"\n",
              "              style=\"display:none;\">\n",
              "        \n",
              "  <svg xmlns=\"http://www.w3.org/2000/svg\" height=\"24px\"viewBox=\"0 0 24 24\"\n",
              "       width=\"24px\">\n",
              "    <path d=\"M0 0h24v24H0V0z\" fill=\"none\"/>\n",
              "    <path d=\"M18.56 5.44l.94 2.06.94-2.06 2.06-.94-2.06-.94-.94-2.06-.94 2.06-2.06.94zm-11 1L8.5 8.5l.94-2.06 2.06-.94-2.06-.94L8.5 2.5l-.94 2.06-2.06.94zm10 10l.94 2.06.94-2.06 2.06-.94-2.06-.94-.94-2.06-.94 2.06-2.06.94z\"/><path d=\"M17.41 7.96l-1.37-1.37c-.4-.4-.92-.59-1.43-.59-.52 0-1.04.2-1.43.59L10.3 9.45l-7.72 7.72c-.78.78-.78 2.05 0 2.83L4 21.41c.39.39.9.59 1.41.59.51 0 1.02-.2 1.41-.59l7.78-7.78 2.81-2.81c.8-.78.8-2.07 0-2.86zM5.41 20L4 18.59l7.72-7.72 1.47 1.35L5.41 20z\"/>\n",
              "  </svg>\n",
              "      </button>\n",
              "      \n",
              "  <style>\n",
              "    .colab-df-container {\n",
              "      display:flex;\n",
              "      flex-wrap:wrap;\n",
              "      gap: 12px;\n",
              "    }\n",
              "\n",
              "    .colab-df-convert {\n",
              "      background-color: #E8F0FE;\n",
              "      border: none;\n",
              "      border-radius: 50%;\n",
              "      cursor: pointer;\n",
              "      display: none;\n",
              "      fill: #1967D2;\n",
              "      height: 32px;\n",
              "      padding: 0 0 0 0;\n",
              "      width: 32px;\n",
              "    }\n",
              "\n",
              "    .colab-df-convert:hover {\n",
              "      background-color: #E2EBFA;\n",
              "      box-shadow: 0px 1px 2px rgba(60, 64, 67, 0.3), 0px 1px 3px 1px rgba(60, 64, 67, 0.15);\n",
              "      fill: #174EA6;\n",
              "    }\n",
              "\n",
              "    [theme=dark] .colab-df-convert {\n",
              "      background-color: #3B4455;\n",
              "      fill: #D2E3FC;\n",
              "    }\n",
              "\n",
              "    [theme=dark] .colab-df-convert:hover {\n",
              "      background-color: #434B5C;\n",
              "      box-shadow: 0px 1px 3px 1px rgba(0, 0, 0, 0.15);\n",
              "      filter: drop-shadow(0px 1px 2px rgba(0, 0, 0, 0.3));\n",
              "      fill: #FFFFFF;\n",
              "    }\n",
              "  </style>\n",
              "\n",
              "      <script>\n",
              "        const buttonEl =\n",
              "          document.querySelector('#df-9d4a2f29-46dc-4cb3-b4f2-ffdffae66740 button.colab-df-convert');\n",
              "        buttonEl.style.display =\n",
              "          google.colab.kernel.accessAllowed ? 'block' : 'none';\n",
              "\n",
              "        async function convertToInteractive(key) {\n",
              "          const element = document.querySelector('#df-9d4a2f29-46dc-4cb3-b4f2-ffdffae66740');\n",
              "          const dataTable =\n",
              "            await google.colab.kernel.invokeFunction('convertToInteractive',\n",
              "                                                     [key], {});\n",
              "          if (!dataTable) return;\n",
              "\n",
              "          const docLinkHtml = 'Like what you see? Visit the ' +\n",
              "            '<a target=\"_blank\" href=https://colab.research.google.com/notebooks/data_table.ipynb>data table notebook</a>'\n",
              "            + ' to learn more about interactive tables.';\n",
              "          element.innerHTML = '';\n",
              "          dataTable['output_type'] = 'display_data';\n",
              "          await google.colab.output.renderOutput(dataTable, element);\n",
              "          const docLink = document.createElement('div');\n",
              "          docLink.innerHTML = docLinkHtml;\n",
              "          element.appendChild(docLink);\n",
              "        }\n",
              "      </script>\n",
              "    </div>\n",
              "  </div>\n",
              "  "
            ]
          },
          "metadata": {},
          "execution_count": 68
        }
      ]
    },
    {
      "cell_type": "markdown",
      "source": [
        "Below is the data correlation matrix with specific number. The positive gave a positive correlation, meanwhile negative outcome represents the negative relation of each two variables:\n"
      ],
      "metadata": {
        "id": "AGVZX0jOs11W"
      }
    },
    {
      "cell_type": "code",
      "source": [
        "source.corr()"
      ],
      "metadata": {
        "colab": {
          "base_uri": "https://localhost:8080/",
          "height": 394
        },
        "id": "DLbp38-SPGta",
        "outputId": "5df1453b-22f8-40d0-949f-ba71d3747b36"
      },
      "execution_count": null,
      "outputs": [
        {
          "output_type": "execute_result",
          "data": {
            "text/plain": [
              "                     CREDIT_SCORE  VEHICLE_OWNERSHIP   MARRIED  CHILDREN  \\\n",
              "CREDIT_SCORE             1.000000           0.312995  0.282555  0.221354   \n",
              "VEHICLE_OWNERSHIP        0.312995           1.000000  0.170752  0.116477   \n",
              "MARRIED                  0.282555           0.170752  1.000000  0.293613   \n",
              "CHILDREN                 0.221354           0.116477  0.293613  1.000000   \n",
              "POSTAL_CODE              0.007465          -0.010469  0.010056  0.019260   \n",
              "ANNUAL_MILEAGE          -0.174453          -0.093710 -0.465642 -0.451105   \n",
              "SPEEDING_VIOLATIONS      0.208433           0.133302  0.216213  0.224753   \n",
              "DUIS                     0.127888           0.087432  0.119750  0.113996   \n",
              "PAST_ACCIDENTS           0.182408           0.121881  0.214767  0.204888   \n",
              "OUTCOME                 -0.321436          -0.386217 -0.253200 -0.230255   \n",
              "DUIB                     0.137397           0.089536  0.124593  0.118056   \n",
              "\n",
              "                     POSTAL_CODE  ANNUAL_MILEAGE  SPEEDING_VIOLATIONS  \\\n",
              "CREDIT_SCORE            0.007465       -0.174453             0.208433   \n",
              "VEHICLE_OWNERSHIP      -0.010469       -0.093710             0.133302   \n",
              "MARRIED                 0.010056       -0.465642             0.216213   \n",
              "CHILDREN                0.019260       -0.451105             0.224753   \n",
              "POSTAL_CODE             1.000000       -0.130169             0.113228   \n",
              "ANNUAL_MILEAGE         -0.130169        1.000000            -0.318478   \n",
              "SPEEDING_VIOLATIONS     0.113228       -0.318478             1.000000   \n",
              "DUIS                    0.034591       -0.113474             0.365700   \n",
              "PAST_ACCIDENTS         -0.120617       -0.195160             0.445531   \n",
              "OUTCOME                 0.095939        0.184865            -0.293138   \n",
              "DUIB                    0.028800       -0.110431             0.346873   \n",
              "\n",
              "                         DUIS  PAST_ACCIDENTS   OUTCOME      DUIB  \n",
              "CREDIT_SCORE         0.127888        0.182408 -0.321436  0.137397  \n",
              "VEHICLE_OWNERSHIP    0.087432        0.121881 -0.386217  0.089536  \n",
              "MARRIED              0.119750        0.214767 -0.253200  0.124593  \n",
              "CHILDREN             0.113996        0.204888 -0.230255  0.118056  \n",
              "POSTAL_CODE          0.034591       -0.120617  0.095939  0.028800  \n",
              "ANNUAL_MILEAGE      -0.113474       -0.195160  0.184865 -0.110431  \n",
              "SPEEDING_VIOLATIONS  0.365700        0.445531 -0.293138  0.346873  \n",
              "DUIS                 1.000000        0.264834 -0.190015  0.893787  \n",
              "PAST_ACCIDENTS       0.264834        1.000000 -0.312738  0.275864  \n",
              "OUTCOME             -0.190015       -0.312738  1.000000 -0.205789  \n",
              "DUIB                 0.893787        0.275864 -0.205789  1.000000  "
            ],
            "text/html": [
              "\n",
              "  <div id=\"df-5d4f2d64-f47a-4389-8a8f-6d5c0eb82855\">\n",
              "    <div class=\"colab-df-container\">\n",
              "      <div>\n",
              "<style scoped>\n",
              "    .dataframe tbody tr th:only-of-type {\n",
              "        vertical-align: middle;\n",
              "    }\n",
              "\n",
              "    .dataframe tbody tr th {\n",
              "        vertical-align: top;\n",
              "    }\n",
              "\n",
              "    .dataframe thead th {\n",
              "        text-align: right;\n",
              "    }\n",
              "</style>\n",
              "<table border=\"1\" class=\"dataframe\">\n",
              "  <thead>\n",
              "    <tr style=\"text-align: right;\">\n",
              "      <th></th>\n",
              "      <th>CREDIT_SCORE</th>\n",
              "      <th>VEHICLE_OWNERSHIP</th>\n",
              "      <th>MARRIED</th>\n",
              "      <th>CHILDREN</th>\n",
              "      <th>POSTAL_CODE</th>\n",
              "      <th>ANNUAL_MILEAGE</th>\n",
              "      <th>SPEEDING_VIOLATIONS</th>\n",
              "      <th>DUIS</th>\n",
              "      <th>PAST_ACCIDENTS</th>\n",
              "      <th>OUTCOME</th>\n",
              "      <th>DUIB</th>\n",
              "    </tr>\n",
              "  </thead>\n",
              "  <tbody>\n",
              "    <tr>\n",
              "      <th>CREDIT_SCORE</th>\n",
              "      <td>1.000000</td>\n",
              "      <td>0.312995</td>\n",
              "      <td>0.282555</td>\n",
              "      <td>0.221354</td>\n",
              "      <td>0.007465</td>\n",
              "      <td>-0.174453</td>\n",
              "      <td>0.208433</td>\n",
              "      <td>0.127888</td>\n",
              "      <td>0.182408</td>\n",
              "      <td>-0.321436</td>\n",
              "      <td>0.137397</td>\n",
              "    </tr>\n",
              "    <tr>\n",
              "      <th>VEHICLE_OWNERSHIP</th>\n",
              "      <td>0.312995</td>\n",
              "      <td>1.000000</td>\n",
              "      <td>0.170752</td>\n",
              "      <td>0.116477</td>\n",
              "      <td>-0.010469</td>\n",
              "      <td>-0.093710</td>\n",
              "      <td>0.133302</td>\n",
              "      <td>0.087432</td>\n",
              "      <td>0.121881</td>\n",
              "      <td>-0.386217</td>\n",
              "      <td>0.089536</td>\n",
              "    </tr>\n",
              "    <tr>\n",
              "      <th>MARRIED</th>\n",
              "      <td>0.282555</td>\n",
              "      <td>0.170752</td>\n",
              "      <td>1.000000</td>\n",
              "      <td>0.293613</td>\n",
              "      <td>0.010056</td>\n",
              "      <td>-0.465642</td>\n",
              "      <td>0.216213</td>\n",
              "      <td>0.119750</td>\n",
              "      <td>0.214767</td>\n",
              "      <td>-0.253200</td>\n",
              "      <td>0.124593</td>\n",
              "    </tr>\n",
              "    <tr>\n",
              "      <th>CHILDREN</th>\n",
              "      <td>0.221354</td>\n",
              "      <td>0.116477</td>\n",
              "      <td>0.293613</td>\n",
              "      <td>1.000000</td>\n",
              "      <td>0.019260</td>\n",
              "      <td>-0.451105</td>\n",
              "      <td>0.224753</td>\n",
              "      <td>0.113996</td>\n",
              "      <td>0.204888</td>\n",
              "      <td>-0.230255</td>\n",
              "      <td>0.118056</td>\n",
              "    </tr>\n",
              "    <tr>\n",
              "      <th>POSTAL_CODE</th>\n",
              "      <td>0.007465</td>\n",
              "      <td>-0.010469</td>\n",
              "      <td>0.010056</td>\n",
              "      <td>0.019260</td>\n",
              "      <td>1.000000</td>\n",
              "      <td>-0.130169</td>\n",
              "      <td>0.113228</td>\n",
              "      <td>0.034591</td>\n",
              "      <td>-0.120617</td>\n",
              "      <td>0.095939</td>\n",
              "      <td>0.028800</td>\n",
              "    </tr>\n",
              "    <tr>\n",
              "      <th>ANNUAL_MILEAGE</th>\n",
              "      <td>-0.174453</td>\n",
              "      <td>-0.093710</td>\n",
              "      <td>-0.465642</td>\n",
              "      <td>-0.451105</td>\n",
              "      <td>-0.130169</td>\n",
              "      <td>1.000000</td>\n",
              "      <td>-0.318478</td>\n",
              "      <td>-0.113474</td>\n",
              "      <td>-0.195160</td>\n",
              "      <td>0.184865</td>\n",
              "      <td>-0.110431</td>\n",
              "    </tr>\n",
              "    <tr>\n",
              "      <th>SPEEDING_VIOLATIONS</th>\n",
              "      <td>0.208433</td>\n",
              "      <td>0.133302</td>\n",
              "      <td>0.216213</td>\n",
              "      <td>0.224753</td>\n",
              "      <td>0.113228</td>\n",
              "      <td>-0.318478</td>\n",
              "      <td>1.000000</td>\n",
              "      <td>0.365700</td>\n",
              "      <td>0.445531</td>\n",
              "      <td>-0.293138</td>\n",
              "      <td>0.346873</td>\n",
              "    </tr>\n",
              "    <tr>\n",
              "      <th>DUIS</th>\n",
              "      <td>0.127888</td>\n",
              "      <td>0.087432</td>\n",
              "      <td>0.119750</td>\n",
              "      <td>0.113996</td>\n",
              "      <td>0.034591</td>\n",
              "      <td>-0.113474</td>\n",
              "      <td>0.365700</td>\n",
              "      <td>1.000000</td>\n",
              "      <td>0.264834</td>\n",
              "      <td>-0.190015</td>\n",
              "      <td>0.893787</td>\n",
              "    </tr>\n",
              "    <tr>\n",
              "      <th>PAST_ACCIDENTS</th>\n",
              "      <td>0.182408</td>\n",
              "      <td>0.121881</td>\n",
              "      <td>0.214767</td>\n",
              "      <td>0.204888</td>\n",
              "      <td>-0.120617</td>\n",
              "      <td>-0.195160</td>\n",
              "      <td>0.445531</td>\n",
              "      <td>0.264834</td>\n",
              "      <td>1.000000</td>\n",
              "      <td>-0.312738</td>\n",
              "      <td>0.275864</td>\n",
              "    </tr>\n",
              "    <tr>\n",
              "      <th>OUTCOME</th>\n",
              "      <td>-0.321436</td>\n",
              "      <td>-0.386217</td>\n",
              "      <td>-0.253200</td>\n",
              "      <td>-0.230255</td>\n",
              "      <td>0.095939</td>\n",
              "      <td>0.184865</td>\n",
              "      <td>-0.293138</td>\n",
              "      <td>-0.190015</td>\n",
              "      <td>-0.312738</td>\n",
              "      <td>1.000000</td>\n",
              "      <td>-0.205789</td>\n",
              "    </tr>\n",
              "    <tr>\n",
              "      <th>DUIB</th>\n",
              "      <td>0.137397</td>\n",
              "      <td>0.089536</td>\n",
              "      <td>0.124593</td>\n",
              "      <td>0.118056</td>\n",
              "      <td>0.028800</td>\n",
              "      <td>-0.110431</td>\n",
              "      <td>0.346873</td>\n",
              "      <td>0.893787</td>\n",
              "      <td>0.275864</td>\n",
              "      <td>-0.205789</td>\n",
              "      <td>1.000000</td>\n",
              "    </tr>\n",
              "  </tbody>\n",
              "</table>\n",
              "</div>\n",
              "      <button class=\"colab-df-convert\" onclick=\"convertToInteractive('df-5d4f2d64-f47a-4389-8a8f-6d5c0eb82855')\"\n",
              "              title=\"Convert this dataframe to an interactive table.\"\n",
              "              style=\"display:none;\">\n",
              "        \n",
              "  <svg xmlns=\"http://www.w3.org/2000/svg\" height=\"24px\"viewBox=\"0 0 24 24\"\n",
              "       width=\"24px\">\n",
              "    <path d=\"M0 0h24v24H0V0z\" fill=\"none\"/>\n",
              "    <path d=\"M18.56 5.44l.94 2.06.94-2.06 2.06-.94-2.06-.94-.94-2.06-.94 2.06-2.06.94zm-11 1L8.5 8.5l.94-2.06 2.06-.94-2.06-.94L8.5 2.5l-.94 2.06-2.06.94zm10 10l.94 2.06.94-2.06 2.06-.94-2.06-.94-.94-2.06-.94 2.06-2.06.94z\"/><path d=\"M17.41 7.96l-1.37-1.37c-.4-.4-.92-.59-1.43-.59-.52 0-1.04.2-1.43.59L10.3 9.45l-7.72 7.72c-.78.78-.78 2.05 0 2.83L4 21.41c.39.39.9.59 1.41.59.51 0 1.02-.2 1.41-.59l7.78-7.78 2.81-2.81c.8-.78.8-2.07 0-2.86zM5.41 20L4 18.59l7.72-7.72 1.47 1.35L5.41 20z\"/>\n",
              "  </svg>\n",
              "      </button>\n",
              "      \n",
              "  <style>\n",
              "    .colab-df-container {\n",
              "      display:flex;\n",
              "      flex-wrap:wrap;\n",
              "      gap: 12px;\n",
              "    }\n",
              "\n",
              "    .colab-df-convert {\n",
              "      background-color: #E8F0FE;\n",
              "      border: none;\n",
              "      border-radius: 50%;\n",
              "      cursor: pointer;\n",
              "      display: none;\n",
              "      fill: #1967D2;\n",
              "      height: 32px;\n",
              "      padding: 0 0 0 0;\n",
              "      width: 32px;\n",
              "    }\n",
              "\n",
              "    .colab-df-convert:hover {\n",
              "      background-color: #E2EBFA;\n",
              "      box-shadow: 0px 1px 2px rgba(60, 64, 67, 0.3), 0px 1px 3px 1px rgba(60, 64, 67, 0.15);\n",
              "      fill: #174EA6;\n",
              "    }\n",
              "\n",
              "    [theme=dark] .colab-df-convert {\n",
              "      background-color: #3B4455;\n",
              "      fill: #D2E3FC;\n",
              "    }\n",
              "\n",
              "    [theme=dark] .colab-df-convert:hover {\n",
              "      background-color: #434B5C;\n",
              "      box-shadow: 0px 1px 3px 1px rgba(0, 0, 0, 0.15);\n",
              "      filter: drop-shadow(0px 1px 2px rgba(0, 0, 0, 0.3));\n",
              "      fill: #FFFFFF;\n",
              "    }\n",
              "  </style>\n",
              "\n",
              "      <script>\n",
              "        const buttonEl =\n",
              "          document.querySelector('#df-5d4f2d64-f47a-4389-8a8f-6d5c0eb82855 button.colab-df-convert');\n",
              "        buttonEl.style.display =\n",
              "          google.colab.kernel.accessAllowed ? 'block' : 'none';\n",
              "\n",
              "        async function convertToInteractive(key) {\n",
              "          const element = document.querySelector('#df-5d4f2d64-f47a-4389-8a8f-6d5c0eb82855');\n",
              "          const dataTable =\n",
              "            await google.colab.kernel.invokeFunction('convertToInteractive',\n",
              "                                                     [key], {});\n",
              "          if (!dataTable) return;\n",
              "\n",
              "          const docLinkHtml = 'Like what you see? Visit the ' +\n",
              "            '<a target=\"_blank\" href=https://colab.research.google.com/notebooks/data_table.ipynb>data table notebook</a>'\n",
              "            + ' to learn more about interactive tables.';\n",
              "          element.innerHTML = '';\n",
              "          dataTable['output_type'] = 'display_data';\n",
              "          await google.colab.output.renderOutput(dataTable, element);\n",
              "          const docLink = document.createElement('div');\n",
              "          docLink.innerHTML = docLinkHtml;\n",
              "          element.appendChild(docLink);\n",
              "        }\n",
              "      </script>\n",
              "    </div>\n",
              "  </div>\n",
              "  "
            ]
          },
          "metadata": {},
          "execution_count": 69
        }
      ]
    },
    {
      "cell_type": "code",
      "source": [
        "totalX.corr()"
      ],
      "metadata": {
        "id": "FHT1wJTRPhu9",
        "outputId": "9ceaef1d-04b1-4dce-fd83-d42106e6525a",
        "colab": {
          "base_uri": "https://localhost:8080/",
          "height": 269
        }
      },
      "execution_count": null,
      "outputs": [
        {
          "output_type": "execute_result",
          "data": {
            "text/plain": [
              "                     CREDIT_SCORE  VEHICLE_OWNERSHIP   MARRIED  CHILDREN  \\\n",
              "CREDIT_SCORE             1.000000           0.312995  0.282555  0.221354   \n",
              "VEHICLE_OWNERSHIP        0.312995           1.000000  0.170752  0.116477   \n",
              "MARRIED                  0.282555           0.170752  1.000000  0.293613   \n",
              "CHILDREN                 0.221354           0.116477  0.293613  1.000000   \n",
              "ANNUAL_MILEAGE          -0.174453          -0.093710 -0.465642 -0.451105   \n",
              "SPEEDING_VIOLATIONS      0.208433           0.133302  0.216213  0.224753   \n",
              "PAST_ACCIDENTS           0.182408           0.121881  0.214767  0.204888   \n",
              "\n",
              "                     ANNUAL_MILEAGE  SPEEDING_VIOLATIONS  PAST_ACCIDENTS  \n",
              "CREDIT_SCORE              -0.174453             0.208433        0.182408  \n",
              "VEHICLE_OWNERSHIP         -0.093710             0.133302        0.121881  \n",
              "MARRIED                   -0.465642             0.216213        0.214767  \n",
              "CHILDREN                  -0.451105             0.224753        0.204888  \n",
              "ANNUAL_MILEAGE             1.000000            -0.318478       -0.195160  \n",
              "SPEEDING_VIOLATIONS       -0.318478             1.000000        0.445531  \n",
              "PAST_ACCIDENTS            -0.195160             0.445531        1.000000  "
            ],
            "text/html": [
              "\n",
              "  <div id=\"df-831c3242-850d-4677-bb44-13e3b9d07be7\">\n",
              "    <div class=\"colab-df-container\">\n",
              "      <div>\n",
              "<style scoped>\n",
              "    .dataframe tbody tr th:only-of-type {\n",
              "        vertical-align: middle;\n",
              "    }\n",
              "\n",
              "    .dataframe tbody tr th {\n",
              "        vertical-align: top;\n",
              "    }\n",
              "\n",
              "    .dataframe thead th {\n",
              "        text-align: right;\n",
              "    }\n",
              "</style>\n",
              "<table border=\"1\" class=\"dataframe\">\n",
              "  <thead>\n",
              "    <tr style=\"text-align: right;\">\n",
              "      <th></th>\n",
              "      <th>CREDIT_SCORE</th>\n",
              "      <th>VEHICLE_OWNERSHIP</th>\n",
              "      <th>MARRIED</th>\n",
              "      <th>CHILDREN</th>\n",
              "      <th>ANNUAL_MILEAGE</th>\n",
              "      <th>SPEEDING_VIOLATIONS</th>\n",
              "      <th>PAST_ACCIDENTS</th>\n",
              "    </tr>\n",
              "  </thead>\n",
              "  <tbody>\n",
              "    <tr>\n",
              "      <th>CREDIT_SCORE</th>\n",
              "      <td>1.000000</td>\n",
              "      <td>0.312995</td>\n",
              "      <td>0.282555</td>\n",
              "      <td>0.221354</td>\n",
              "      <td>-0.174453</td>\n",
              "      <td>0.208433</td>\n",
              "      <td>0.182408</td>\n",
              "    </tr>\n",
              "    <tr>\n",
              "      <th>VEHICLE_OWNERSHIP</th>\n",
              "      <td>0.312995</td>\n",
              "      <td>1.000000</td>\n",
              "      <td>0.170752</td>\n",
              "      <td>0.116477</td>\n",
              "      <td>-0.093710</td>\n",
              "      <td>0.133302</td>\n",
              "      <td>0.121881</td>\n",
              "    </tr>\n",
              "    <tr>\n",
              "      <th>MARRIED</th>\n",
              "      <td>0.282555</td>\n",
              "      <td>0.170752</td>\n",
              "      <td>1.000000</td>\n",
              "      <td>0.293613</td>\n",
              "      <td>-0.465642</td>\n",
              "      <td>0.216213</td>\n",
              "      <td>0.214767</td>\n",
              "    </tr>\n",
              "    <tr>\n",
              "      <th>CHILDREN</th>\n",
              "      <td>0.221354</td>\n",
              "      <td>0.116477</td>\n",
              "      <td>0.293613</td>\n",
              "      <td>1.000000</td>\n",
              "      <td>-0.451105</td>\n",
              "      <td>0.224753</td>\n",
              "      <td>0.204888</td>\n",
              "    </tr>\n",
              "    <tr>\n",
              "      <th>ANNUAL_MILEAGE</th>\n",
              "      <td>-0.174453</td>\n",
              "      <td>-0.093710</td>\n",
              "      <td>-0.465642</td>\n",
              "      <td>-0.451105</td>\n",
              "      <td>1.000000</td>\n",
              "      <td>-0.318478</td>\n",
              "      <td>-0.195160</td>\n",
              "    </tr>\n",
              "    <tr>\n",
              "      <th>SPEEDING_VIOLATIONS</th>\n",
              "      <td>0.208433</td>\n",
              "      <td>0.133302</td>\n",
              "      <td>0.216213</td>\n",
              "      <td>0.224753</td>\n",
              "      <td>-0.318478</td>\n",
              "      <td>1.000000</td>\n",
              "      <td>0.445531</td>\n",
              "    </tr>\n",
              "    <tr>\n",
              "      <th>PAST_ACCIDENTS</th>\n",
              "      <td>0.182408</td>\n",
              "      <td>0.121881</td>\n",
              "      <td>0.214767</td>\n",
              "      <td>0.204888</td>\n",
              "      <td>-0.195160</td>\n",
              "      <td>0.445531</td>\n",
              "      <td>1.000000</td>\n",
              "    </tr>\n",
              "  </tbody>\n",
              "</table>\n",
              "</div>\n",
              "      <button class=\"colab-df-convert\" onclick=\"convertToInteractive('df-831c3242-850d-4677-bb44-13e3b9d07be7')\"\n",
              "              title=\"Convert this dataframe to an interactive table.\"\n",
              "              style=\"display:none;\">\n",
              "        \n",
              "  <svg xmlns=\"http://www.w3.org/2000/svg\" height=\"24px\"viewBox=\"0 0 24 24\"\n",
              "       width=\"24px\">\n",
              "    <path d=\"M0 0h24v24H0V0z\" fill=\"none\"/>\n",
              "    <path d=\"M18.56 5.44l.94 2.06.94-2.06 2.06-.94-2.06-.94-.94-2.06-.94 2.06-2.06.94zm-11 1L8.5 8.5l.94-2.06 2.06-.94-2.06-.94L8.5 2.5l-.94 2.06-2.06.94zm10 10l.94 2.06.94-2.06 2.06-.94-2.06-.94-.94-2.06-.94 2.06-2.06.94z\"/><path d=\"M17.41 7.96l-1.37-1.37c-.4-.4-.92-.59-1.43-.59-.52 0-1.04.2-1.43.59L10.3 9.45l-7.72 7.72c-.78.78-.78 2.05 0 2.83L4 21.41c.39.39.9.59 1.41.59.51 0 1.02-.2 1.41-.59l7.78-7.78 2.81-2.81c.8-.78.8-2.07 0-2.86zM5.41 20L4 18.59l7.72-7.72 1.47 1.35L5.41 20z\"/>\n",
              "  </svg>\n",
              "      </button>\n",
              "      \n",
              "  <style>\n",
              "    .colab-df-container {\n",
              "      display:flex;\n",
              "      flex-wrap:wrap;\n",
              "      gap: 12px;\n",
              "    }\n",
              "\n",
              "    .colab-df-convert {\n",
              "      background-color: #E8F0FE;\n",
              "      border: none;\n",
              "      border-radius: 50%;\n",
              "      cursor: pointer;\n",
              "      display: none;\n",
              "      fill: #1967D2;\n",
              "      height: 32px;\n",
              "      padding: 0 0 0 0;\n",
              "      width: 32px;\n",
              "    }\n",
              "\n",
              "    .colab-df-convert:hover {\n",
              "      background-color: #E2EBFA;\n",
              "      box-shadow: 0px 1px 2px rgba(60, 64, 67, 0.3), 0px 1px 3px 1px rgba(60, 64, 67, 0.15);\n",
              "      fill: #174EA6;\n",
              "    }\n",
              "\n",
              "    [theme=dark] .colab-df-convert {\n",
              "      background-color: #3B4455;\n",
              "      fill: #D2E3FC;\n",
              "    }\n",
              "\n",
              "    [theme=dark] .colab-df-convert:hover {\n",
              "      background-color: #434B5C;\n",
              "      box-shadow: 0px 1px 3px 1px rgba(0, 0, 0, 0.15);\n",
              "      filter: drop-shadow(0px 1px 2px rgba(0, 0, 0, 0.3));\n",
              "      fill: #FFFFFF;\n",
              "    }\n",
              "  </style>\n",
              "\n",
              "      <script>\n",
              "        const buttonEl =\n",
              "          document.querySelector('#df-831c3242-850d-4677-bb44-13e3b9d07be7 button.colab-df-convert');\n",
              "        buttonEl.style.display =\n",
              "          google.colab.kernel.accessAllowed ? 'block' : 'none';\n",
              "\n",
              "        async function convertToInteractive(key) {\n",
              "          const element = document.querySelector('#df-831c3242-850d-4677-bb44-13e3b9d07be7');\n",
              "          const dataTable =\n",
              "            await google.colab.kernel.invokeFunction('convertToInteractive',\n",
              "                                                     [key], {});\n",
              "          if (!dataTable) return;\n",
              "\n",
              "          const docLinkHtml = 'Like what you see? Visit the ' +\n",
              "            '<a target=\"_blank\" href=https://colab.research.google.com/notebooks/data_table.ipynb>data table notebook</a>'\n",
              "            + ' to learn more about interactive tables.';\n",
              "          element.innerHTML = '';\n",
              "          dataTable['output_type'] = 'display_data';\n",
              "          await google.colab.output.renderOutput(dataTable, element);\n",
              "          const docLink = document.createElement('div');\n",
              "          docLink.innerHTML = docLinkHtml;\n",
              "          element.appendChild(docLink);\n",
              "        }\n",
              "      </script>\n",
              "    </div>\n",
              "  </div>\n",
              "  "
            ]
          },
          "metadata": {},
          "execution_count": 70
        }
      ]
    },
    {
      "cell_type": "markdown",
      "source": [
        "#Decision Tree Creation and Hyperparameters\n",
        "Here we can change the hyperparameters to optimize our decision tree"
      ],
      "metadata": {
        "id": "nHuIl2P9tVsB"
      }
    },
    {
      "cell_type": "code",
      "source": [
        "trainingX=totalX[:7149]\n",
        "trainingX1=totalX[:6149]\n",
        "trainingX.hist(bins=5)\n",
        "plt.show()\n",
        "trainingY=totalY[:7149]\n",
        "trainingY1=totalY[:6149]\n",
        "trainingY.hist(bins=3)\n",
        "plt.show()\n",
        "testingX=totalX[7149:]\n",
        "testingX1=totalX.iloc[6149:7149]\n",
        "testingX2=totalX[7149:]\n",
        "testingX.hist(bins=5)\n",
        "plt.show()\n",
        "testingY=totalY[7149:]\n",
        "testingY1=totalY.iloc[6149:7149]\n",
        "testingY2=totalY[7149:]\n",
        "testingY.hist(bins=3)\n",
        "\n",
        "modelDT = tree.DecisionTreeClassifier(max_depth = 10, random_state=1)\n",
        "modelDT = modelDT.fit(trainingX1, trainingY1)\n",
        "y_pred1 = modelDT.predict(testingX1)\n",
        "ypred1=pd.DataFrame(y_pred1)\n",
        "print(sum(y_pred1))\n",
        "\n",
        "accuracy = accuracy_score(testingY1, y_pred1)\n",
        "print((\"DT accuracy: \", accuracy))"
      ],
      "metadata": {
        "id": "3U5C8lpMs2_n",
        "colab": {
          "base_uri": "https://localhost:8080/",
          "height": 1000
        },
        "outputId": "c348f7b8-fd4b-430d-ac75-b16b397ded3c"
      },
      "execution_count": null,
      "outputs": [
        {
          "output_type": "display_data",
          "data": {
            "text/plain": [
              "<Figure size 432x288 with 9 Axes>"
            ],
            "image/png": "[encoded data removed]"
          },
          "metadata": {
            "needs_background": "light"
          }
        },
        {
          "output_type": "display_data",
          "data": {
            "text/plain": [
              "<Figure size 432x288 with 1 Axes>"
            ],
            "image/png": "[encoded data removed]"
          },
          "metadata": {
            "needs_background": "light"
          }
        },
        {
          "output_type": "display_data",
          "data": {
            "text/plain": [
              "<Figure size 432x288 with 9 Axes>"
            ],
            "image/png": "[encoded data removed]"
          },
          "metadata": {
            "needs_background": "light"
          }
        },
        {
          "output_type": "stream",
          "name": "stdout",
          "text": [
            "129\n",
            "('DT accuracy: ', 0.793)\n"
          ]
        },
        {
          "output_type": "display_data",
          "data": {
            "text/plain": [
              "<Figure size 432x288 with 1 Axes>"
            ],
            "image/png": "[encoded data removed]"
          },
          "metadata": {
            "needs_background": "light"
          }
        }
      ]
    },
    {
      "cell_type": "markdown",
      "source": [
        "#Evaluate Decision Tree\n",
        "Use the final thousand observations to evaluate our model"
      ],
      "metadata": {
        "id": "HB4u_Nu4thPX"
      }
    },
    {
      "cell_type": "code",
      "source": [
        "modelDTFinal = tree.DecisionTreeClassifier(max_depth = 10, random_state=1)\n",
        "modelDTFinal = modelDTFinal.fit(trainingX, trainingY)\n",
        "y_pred2 = modelDT.predict(testingX)\n",
        "ypred2=pd.DataFrame(y_pred1)\n",
        "print(sum(y_pred1))\n",
        "\n",
        "accuracy = accuracy_score(testingY2, y_pred2)\n",
        "print((\"DT accuracy: \", accuracy))"
      ],
      "metadata": {
        "id": "kh_JQRylaO4U"
      },
      "execution_count": null,
      "outputs": []
    },
    {
      "cell_type": "markdown",
      "source": [
        "#Advanced Models"
      ],
      "metadata": {
        "id": "H6Up8BNZtnv9"
      }
    },
    {
      "cell_type": "markdown",
      "source": [
        "#More Splitting of the Data\n",
        "This part we follow the guidance of the Ensemble Method notebook of the course with split the data set for training, parameter choosing, and predicting:\n"
      ],
      "metadata": {
        "id": "0XushE6rvpho"
      }
    },
    {
      "cell_type": "code",
      "source": [
        "from sklearn.model_selection import train_test_split\n",
        "totalY=source['DUIB']\n",
        "totalX=source.drop(['DUIB', 'DUIS', 'OUTCOME', 'POSTAL_CODE'], axis=1)\n",
        "X_train, X_test, y_train, y_test = train_test_split(totalX, totalY, train_size=0.8, stratify=totalY, random_state=3)"
      ],
      "metadata": {
        "id": "L88YbOaXpISx"
      },
      "execution_count": null,
      "outputs": []
    },
    {
      "cell_type": "code",
      "source": [
        "# check how the splitting is done\n",
        "print(f\"Shape X_train: {X_train.shape}\")\n",
        "print(f\"Shape X_test: {X_test.shape} \\n\")\n",
        "\n",
        "print(f\"Shape y_train: {y_train.shape}\")\n",
        "print(f\"Num 0: {sum(y_train == 0)} ({round(100*sum(y_train==0)/y_train.shape[0],2)}%)\") \n",
        "print(f\"Num 1: {sum(y_train == 1)} ({round(100*sum(y_train==1)/y_train.shape[0],2)}%) \\n\")\n",
        "\n",
        "print(f\"Shape y_test: {y_test.shape}\")\n",
        "print(f\"Num 0: {sum(y_test == 0)} ({round(100*sum(y_test==0)/y_test.shape[0],2)}%)\") \n",
        "print(f\"Num 1: {sum(y_test == 1)} ({round(100*sum(y_test==1)/y_test.shape[0],2)}%)\")"
      ],
      "metadata": {
        "colab": {
          "base_uri": "https://localhost:8080/"
        },
        "id": "CtXg1mVhrHxw",
        "outputId": "3f83330c-4739-445f-8589-2f9462e593dc"
      },
      "execution_count": null,
      "outputs": [
        {
          "output_type": "stream",
          "name": "stdout",
          "text": [
            "Shape X_train: (6519, 15)\n",
            "Shape X_test: (1630, 15) \n",
            "\n",
            "Shape y_train: (6519,)\n",
            "Num 0: 5285 (81.07%)\n",
            "Num 1: 1234 (18.93%) \n",
            "\n",
            "Shape y_test: (1630,)\n",
            "Num 0: 1321 (81.04%)\n",
            "Num 1: 309 (18.96%)\n"
          ]
        }
      ]
    },
    {
      "cell_type": "markdown",
      "source": [
        "#Random Forest"
      ],
      "metadata": {
        "id": "fyO6mucuttlH"
      }
    },
    {
      "cell_type": "markdown",
      "source": [
        "Following is just to check how it would print the default parameters. We will change this by choosing the optimal parameter set:"
      ],
      "metadata": {
        "id": "lMWIbkB-yBkF"
      }
    },
    {
      "cell_type": "code",
      "source": [
        "from sklearn.ensemble import RandomForestClassifier as RFC\n",
        "rf_model = RFC(random_state=9)\n",
        "from pprint import pprint\n",
        "print('Parameters currently in use:\\n')\n",
        "pprint(rf_model.get_params())"
      ],
      "metadata": {
        "colab": {
          "base_uri": "https://localhost:8080/"
        },
        "id": "lzlgJnSKfGVq",
        "outputId": "6e072fba-6983-477b-ebc5-6f9f18347de9"
      },
      "execution_count": null,
      "outputs": [
        {
          "output_type": "stream",
          "name": "stdout",
          "text": [
            "Parameters currently in use:\n",
            "\n",
            "{'bootstrap': True,\n",
            " 'ccp_alpha': 0.0,\n",
            " 'class_weight': None,\n",
            " 'criterion': 'gini',\n",
            " 'max_depth': None,\n",
            " 'max_features': 'auto',\n",
            " 'max_leaf_nodes': None,\n",
            " 'max_samples': None,\n",
            " 'min_impurity_decrease': 0.0,\n",
            " 'min_samples_leaf': 1,\n",
            " 'min_samples_split': 2,\n",
            " 'min_weight_fraction_leaf': 0.0,\n",
            " 'n_estimators': 100,\n",
            " 'n_jobs': None,\n",
            " 'oob_score': False,\n",
            " 'random_state': 9,\n",
            " 'verbose': 0,\n",
            " 'warm_start': False}\n"
          ]
        }
      ]
    },
    {
      "cell_type": "markdown",
      "source": [
        "This is the part we would make use of GridSearch to choose the optimal parameter set:"
      ],
      "metadata": {
        "id": "5bvIqDOayNEM"
      }
    },
    {
      "cell_type": "code",
      "source": [
        "from sklearn.model_selection import GridSearchCV\n",
        "\n",
        "rf_parameters = {'n_estimators': [50, 100, 200, 500],\n",
        "              'max_features': [4,5,10,15],\n",
        "              'max_depth': [10, 15, 20, 25],\n",
        "              'min_samples_leaf': [5, 10, 15]}\n",
        "\n",
        "# create the cross-validation object\n",
        "optimal_params_rf = GridSearchCV(\n",
        "    estimator = RFC(random_state=22),  \n",
        "    param_grid = rf_parameters,                               \n",
        "    cv = 5,                                                  \n",
        "    scoring= 'accuracy',\n",
        "    verbose = 0                                       \n",
        ")"
      ],
      "metadata": {
        "id": "2H5vKG0qkzBY"
      },
      "execution_count": null,
      "outputs": []
    },
    {
      "cell_type": "markdown",
      "source": [
        ""
      ],
      "metadata": {
        "id": "Pk4uvnP3yfGS"
      }
    },
    {
      "cell_type": "markdown",
      "source": [
        "This is the fit function to train the data and compare to see which parameter set works best. This took quite a long time, for 5 times running, each took 20 minutes to complete."
      ],
      "metadata": {
        "id": "X9EVChdHyMPm"
      }
    },
    {
      "cell_type": "code",
      "source": [
        "optimal_params_rf.fit(X_train, y_train)"
      ],
      "metadata": {
        "colab": {
          "base_uri": "https://localhost:8080/"
        },
        "id": "x2i56cr1tOjR",
        "outputId": "52c50106-4f80-4c1e-e58d-9a873455cab8"
      },
      "execution_count": null,
      "outputs": [
        {
          "output_type": "execute_result",
          "data": {
            "text/plain": [
              "GridSearchCV(cv=5, estimator=RandomForestClassifier(random_state=22),\n",
              "             param_grid={'max_depth': [10, 15, 20, 25],\n",
              "                         'max_features': [4, 5, 10, 15],\n",
              "                         'min_samples_leaf': [5, 10, 15],\n",
              "                         'n_estimators': [50, 100, 200, 500]},\n",
              "             scoring='accuracy')"
            ]
          },
          "metadata": {},
          "execution_count": 37
        }
      ]
    },
    {
      "cell_type": "code",
      "source": [
        "optimal_params_rf.best_params_"
      ],
      "metadata": {
        "colab": {
          "base_uri": "https://localhost:8080/"
        },
        "id": "K_SOpVxM3RrY",
        "outputId": "418fdf6f-513d-4aa1-eb35-32edb24564d6"
      },
      "execution_count": null,
      "outputs": [
        {
          "output_type": "execute_result",
          "data": {
            "text/plain": [
              "{'max_depth': 15,\n",
              " 'max_features': 4,\n",
              " 'min_samples_leaf': 15,\n",
              " 'n_estimators': 50}"
            ]
          },
          "metadata": {},
          "execution_count": 39
        }
      ]
    },
    {
      "cell_type": "code",
      "source": [
        "optimal_params_rf.best_score_\n"
      ],
      "metadata": {
        "colab": {
          "base_uri": "https://localhost:8080/"
        },
        "id": "S60z2VLA_Gnk",
        "outputId": "e47479ff-aac0-4ecf-9f16-0fcc749ad729"
      },
      "execution_count": null,
      "outputs": [
        {
          "output_type": "execute_result",
          "data": {
            "text/plain": [
              "0.8139280989128439"
            ]
          },
          "metadata": {},
          "execution_count": 40
        }
      ]
    },
    {
      "cell_type": "markdown",
      "source": [
        "Below we perform the method with the optimal parameter set chosen above:"
      ],
      "metadata": {
        "id": "o-K9DuHNygO3"
      }
    },
    {
      "cell_type": "code",
      "source": [
        "rf_best_model = RFC(n_estimators=optimal_params_rf.best_params_['n_estimators'], max_depth=optimal_params_rf.best_params_['max_depth'],\n",
        "                    max_features=optimal_params_rf.best_params_['max_features'], min_samples_leaf=optimal_params_rf.best_params_['min_samples_leaf'], random_state=22)\n",
        "rf_best_model = rf_best_model.fit(X_train, y_train)\n",
        "\n",
        "rf_pred = rf_best_model.predict(X_test)\n",
        "\n",
        "from sklearn.metrics import accuracy_score\n",
        "rf_accuracy = accuracy_score(y_test, rf_pred)\n",
        "print(rf_accuracy)\n",
        "print(sum(rf_pred))"
      ],
      "metadata": {
        "colab": {
          "base_uri": "https://localhost:8080/"
        },
        "id": "LJQ8k0wh_LOq",
        "outputId": "9f619b79-0dcb-4499-edf7-8b2a9e0bea08"
      },
      "execution_count": null,
      "outputs": [
        {
          "output_type": "stream",
          "name": "stdout",
          "text": [
            "0.8104294478527607\n",
            "76\n"
          ]
        }
      ]
    },
    {
      "cell_type": "markdown",
      "source": [
        "The accuracy above look like the best but the recall rate is not a good idea. Hence, we process to choose the more balancing parameter choice, which gave quite good accuracy and good recall rate:\n"
      ],
      "metadata": {
        "id": "MO6Y0ilIypfP"
      }
    },
    {
      "cell_type": "code",
      "source": [
        "rf = RFC(n_estimators=200, oob_score=True, random_state=22, max_features = 3, max_depth = 15)\n",
        "rf.fit(X_train, y_train)"
      ],
      "metadata": {
        "colab": {
          "base_uri": "https://localhost:8080/"
        },
        "id": "pcqpbI1MkqWk",
        "outputId": "e94dca0b-fdc5-448a-b3ef-9042a7de98cf"
      },
      "execution_count": null,
      "outputs": [
        {
          "output_type": "execute_result",
          "data": {
            "text/plain": [
              "RandomForestClassifier(max_depth=15, max_features=3, n_estimators=200,\n",
              "                       oob_score=True, random_state=22)"
            ]
          },
          "metadata": {},
          "execution_count": 50
        }
      ]
    },
    {
      "cell_type": "code",
      "source": [
        "from sklearn.metrics import accuracy_score\n",
        "predicted = rf.predict(X_test)\n",
        "accuracyRF = accuracy_score(y_test, predicted)\n",
        "print(\"RF accuracy:\", accuracyRF)\n",
        "print(sum(predicted))"
      ],
      "metadata": {
        "colab": {
          "base_uri": "https://localhost:8080/"
        },
        "id": "fs46E4a-o_w3",
        "outputId": "71036c35-c6c2-49ed-e95c-f48aac23b9e1"
      },
      "execution_count": null,
      "outputs": [
        {
          "output_type": "stream",
          "name": "stdout",
          "text": [
            "RF accuracy: 0.8049079754601227\n",
            "119\n"
          ]
        }
      ]
    },
    {
      "cell_type": "markdown",
      "source": [
        "#ADA Boost"
      ],
      "metadata": {
        "id": "RDGoN4elt1Sm"
      }
    },
    {
      "cell_type": "markdown",
      "source": [
        "In this case, we inheirted the idea of traditional ADA, together with the Seminar for Business Analysis major recently (our studies about the ADA implementation), hence we make use of that research and perform that on this data set. The main idea is to use the parameters of Decision Tree (the best of DT) to apply for the argument of ADA. There is paper of professor in Erasmus (Akyuz 2021) to prove this optimality and efficiency of new ADABoost (using DT implementation):"
      ],
      "metadata": {
        "id": "abxYy7c6y2aZ"
      }
    },
    {
      "cell_type": "code",
      "source": [
        "from sklearn.ensemble import RandomForestClassifier, AdaBoostClassifier\n",
        "from sklearn.tree import DecisionTreeClassifier\n",
        "ADA = AdaBoostClassifier(base_estimator=DecisionTreeClassifier(max_depth=8),\n",
        "                             algorithm='SAMME',\n",
        "                             random_state=1)\n",
        "ADA_fit = ADA.fit(trainingX, trainingY)\n",
        "ADA_pred = ADA_fit.predict(testingX)"
      ],
      "metadata": {
        "id": "4fUjTuURgGZt"
      },
      "execution_count": null,
      "outputs": []
    },
    {
      "cell_type": "code",
      "source": [
        ""
      ],
      "metadata": {
        "id": "Zjyy0_r-o-gR"
      },
      "execution_count": null,
      "outputs": []
    },
    {
      "cell_type": "code",
      "source": [
        "predicted = ADA.predict(testingX)\n",
        "accuracyADA = accuracy_score(testingY, predicted)\n",
        "print('Accuracy of ADA: ', accuracyADA)\n",
        "print(sum(predicted))"
      ],
      "metadata": {
        "colab": {
          "base_uri": "https://localhost:8080/"
        },
        "id": "m2hyFf_4gyn4",
        "outputId": "d2597af6-258c-4711-906d-7fe0f96c4c51"
      },
      "execution_count": null,
      "outputs": [
        {
          "output_type": "stream",
          "name": "stdout",
          "text": [
            "Accuracy of ADA:  0.78\n",
            "127\n"
          ]
        }
      ]
    },
    {
      "cell_type": "code",
      "source": [
        ""
      ],
      "metadata": {
        "id": "2Jy9unuyySAI"
      },
      "execution_count": null,
      "outputs": []
    },
    {
      "cell_type": "markdown",
      "source": [
        ""
      ],
      "metadata": {
        "id": "kJAcw-MEyTI6"
      }
    }
  ]
}